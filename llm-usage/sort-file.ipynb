{
 "cells": [
  {
   "cell_type": "code",
   "execution_count": null,
   "metadata": {},
   "outputs": [],
   "source": [
    "import pandas as pd\n",
    "import os\n",
    "import shutil\n",
    "\n",
    "def read_csv_data(pdf_folder):\n",
    "    \"\"\"Reads the categorized articles CSV file.\"\"\"\n",
    "    csv_file_path = os.path.join(pdf_folder, \"final_categorized_articles.csv\")\n",
    "    try:\n",
    "        df = pd.read_csv(csv_file_path, usecols=[\"Filename\", \"Final Category\"])\n",
    "        return df\n",
    "    except FileNotFoundError:\n",
    "        print(f\"Error: File not found at {csv_file_path}\")\n",
    "        return None\n",
    "    except pd.errors.EmptyDataError:\n",
    "        print(f\"Error: CSV file is empty at {csv_file_path}\")\n",
    "        return None\n",
    "    except pd.errors.ParserError:\n",
    "        print(f\"Error: Could not parse CSV file at {csv_file_path}\")\n",
    "        return None\n",
    "\n",
    "def sort_pdfs_by_theme(pdf_folder, df):\n",
    "    \"\"\"Sorts PDFs into folders based on their final category (theme).\"\"\"\n",
    "    if df is None or df.empty:\n",
    "        print(\"No data available for sorting.\")\n",
    "        return\n",
    "\n",
    "    for index, row in df.iterrows():\n",
    "        filename = row[\"Filename\"]\n",
    "        theme = row[\"Final Category\"]\n",
    "\n",
    "        # Skip invalid entries\n",
    "        if pd.isna(filename) or pd.isna(theme):\n",
    "            print(f\"Skipping entry with missing data: {row}\")\n",
    "            continue\n",
    "\n",
    "        source_path = os.path.join(pdf_folder, filename)\n",
    "        destination_folder = os.path.join(pdf_folder, theme)\n",
    "\n",
    "        # Ensure the destination folder exists\n",
    "        os.makedirs(destination_folder, exist_ok=True)\n",
    "\n",
    "        if os.path.exists(source_path):\n",
    "            try:\n",
    "                shutil.move(source_path, os.path.join(destination_folder, filename))\n",
    "                print(f\"Moved '{filename}' to '{destination_folder}'\")\n",
    "            except Exception as e:\n",
    "                print(f\"Error moving '{filename}': {e}\")\n",
    "        else:\n",
    "            print(f\"Error: File '{filename}' not found in {pdf_folder}\")\n",
    "\n",
    "# Change PDF folder path here\n",
    "pdf_folder_path = \"Add/Your/Path/Here\"\n",
    "data = read_csv_data(pdf_folder_path)\n",
    "\n",
    "if data is not None:\n",
    "    sort_pdfs_by_theme(pdf_folder_path, data)"
   ]
  }
 ],
 "metadata": {
  "kernelspec": {
   "display_name": "Python 3",
   "language": "python",
   "name": "python3"
  },
  "language_info": {
   "codemirror_mode": {
    "name": "ipython",
    "version": 3
   },
   "file_extension": ".py",
   "mimetype": "text/x-python",
   "name": "python",
   "nbconvert_exporter": "python",
   "pygments_lexer": "ipython3",
   "version": "3.11.4"
  }
 },
 "nbformat": 4,
 "nbformat_minor": 2
}
